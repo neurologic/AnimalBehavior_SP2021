{
 "cells": [
  {
   "cell_type": "markdown",
   "metadata": {},
   "source": [
    "# <font color='red'> Questions for Andres</font>:\n",
    "- in Figure 1 source data, are the animal identities matched across sheets in the excel sheet? (In other words, is the animal in Row 1 (...etc) the same across sheets). I want to have students look at correlations between behaviors across animals, but this only works if the spreadsheet contains paired data (I see that the number of animals of each species&sex tested for licking behavior is different than for the other 3 behaviors so I am assuming that at least this was a different batch of animals.)"
   ]
  },
  {
   "cell_type": "markdown",
   "metadata": {
    "colab_type": "text",
    "id": "aNYpL-KmwFG8"
   },
   "source": [
    "# **The genetic basis of parental care evolution in monogamous mice.** \n",
    "### Andres Bendesky, Young-Mi Kwon,  Jean-Marc Lassance,  Caitlin L. Lewarch, Shenqin Yao, Brant K. Peterson, Meng Xiao He,  Catherine Dulac,  & Hopi E. Hoekstra\n",
    "> *Nature* **2017**\n",
    "\n",
    "> **ABSTRACT:** Parental care is essential for the survival of mammals, yet the mechanisms underlying its evolution remain largely unknown. Here we show that two sister species of mice, Peromyscus polionotus and Peromyscus maniculatus, have large and heritable differences in parental behaviour. Using quantitative genetics, we identify 12 genomic regions that affect parental care, 8 of which have sex-specific effects, suggesting that parental care can evolve independently in males and females. Furthermore, some regions affect parental care broadly, whereas others affect specific behaviours, such as nest building. Of the genes linked to differences in nest-building behaviour, vasopressin is differentially expressed in the hypothalamus of the two species, with increased levels associated with less nest building. Using pharmacology in Peromyscus and chemogenetics in Mus, we show that vasopressin inhibits nest building but not other parental behaviours. Together, our results indicate that variation in an ancient neuropeptide contributes to interspecific differences in parental care."
   ]
  },
  {
   "cell_type": "code",
   "execution_count": 7,
   "metadata": {
    "cellView": "form",
    "colab": {
     "base_uri": "https://localhost:8080/",
     "height": 288
    },
    "colab_type": "code",
    "executionInfo": {
     "elapsed": 375,
     "status": "ok",
     "timestamp": 1596399003865,
     "user": {
      "displayName": "Krista Perks",
      "photoUrl": "",
      "userId": "11118389411424303278"
     },
     "user_tz": 240
    },
    "id": "1MegNozwwQWm",
    "outputId": "f1dade2c-186b-49cf-baea-cfe29394b5d2"
   },
   "outputs": [
    {
     "ename": "SyntaxError",
     "evalue": "invalid syntax (<ipython-input-7-b9393720e77a>, line 3)",
     "output_type": "error",
     "traceback": [
      "\u001b[0;36m  File \u001b[0;32m\"<ipython-input-7-b9393720e77a>\"\u001b[0;36m, line \u001b[0;32m3\u001b[0m\n\u001b[0;31m    <div align='center'>\u001b[0m\n\u001b[0m    ^\u001b[0m\n\u001b[0;31mSyntaxError\u001b[0m\u001b[0;31m:\u001b[0m invalid syntax\n"
     ]
    }
   ],
   "source": [
    "# @title Cartoon of Female maternal behavior from Marlin et al (2015)\n",
    "%%html\n",
    "<div align='center'>\n",
    "<img src='http://drive.google.com/uc?export=view&id=15MZd0zThC4KbFyPUau8CoHZNtb6XHPTS/' style=\"width: 85vw\"></div>\n",
    "\n"
   ]
  },
  {
   "cell_type": "markdown",
   "metadata": {
    "colab_type": "text",
    "id": "7JCDFgU1wFHD"
   },
   "source": [
    "In preparation for this classroom session you read the paper \"*The genetic basis of parental care evolution in monogamous mice*\" as well as the \"News and Views\" commentary \"*How to build a better dad*\" written by Steven Phelps.<br>\n",
    "\n",
    "**Today** you will work directly with data from this paper.\n",
    "<br>\n",
    "<br>\n",
    "\n",
    "First, **execute** the cell below in order to: \n",
    ">1) prepare your notebook with the necessary packages to do the work <br>\n",
    ">2) mount your personal google drive so that you can access your files and save your work at the end of class (and periodically during class!)"
   ]
  },
  {
   "cell_type": "code",
   "execution_count": 9,
   "metadata": {
    "colab": {},
    "colab_type": "code",
    "id": "4IkKVtHE2UNq"
   },
   "outputs": [],
   "source": [
    "# Executing this cell will prepare your notebook environment with the necessary packages \n",
    "# and mount your google drive\n",
    "\n",
    "import numpy as np\n",
    "import urllib.request\n",
    "import pandas as pd\n",
    "import matplotlib.pyplot as plt\n",
    "plt.rcParams.update({'font.size': 18})\n",
    "\n",
    "# from google.colab import drive\n",
    "# drive.mount('/content/gdrive')"
   ]
  },
  {
   "cell_type": "markdown",
   "metadata": {},
   "source": [
    "### Before working with the data, let's reflect on some of the important aspects of the experimental design.\n",
    "> Diversity of parental care behavior is widespread in the animal kingdom. What was special about these two vole species in particular that enabled the researchers to interrogate the genetic basis of parental care behaviors? <br> __Type your answer__ in the cell below and hit the **Play icon** or ```Shift + Enter``` after you are finished:"
   ]
  },
  {
   "cell_type": "markdown",
   "metadata": {},
   "source": []
  },
  {
   "cell_type": "markdown",
   "metadata": {
    "colab_type": "text",
    "id": "gPbh8ARVwFHG"
   },
   "source": [
    "### Now, let's work with the data.\n",
    "#### We will start with <font color=green> Figure 1</font>.\n",
    "**Execute** the cell below in order to import the raw data provided with the online version of the research article <br> (located at https://www.nature.com/articles/nature22074#Sec28) "
   ]
  },
  {
   "cell_type": "code",
   "execution_count": 25,
   "metadata": {
    "colab": {},
    "colab_type": "code",
    "id": "SUA1Yi0MfGj2"
   },
   "outputs": [],
   "source": [
    "#@title Load the data and sort it into dataframes for each Panel of Figure 1\n",
    "\n",
    "# URL of data to download\n",
    "data_url = 'https://static-content.springer.com/esm/art%3A10.1038%2Fnature22074/MediaObjects/41586_2017_BFnature22074_MOESM110_ESM.xlsx'\n",
    "\n",
    "# Get the data and save it locally as \"data.xls\"\n",
    "data, headers = urllib.request.urlretrieve(data_url, './data.xls')\n",
    "\n",
    "# Load the .xls file as a pandas DataFrame\n",
    "data = pd.read_excel(data)\n",
    "\n",
    "xls = pd.ExcelFile(data)\n",
    "df_NestQuality = pd.read_excel(xls, sheet_name = 'panel C', skiprows = 1)\n",
    "df_Licking = pd.read_excel(xls, sheet_name = 'panel D', skiprows = 1)\n",
    "df_Huddling = pd.read_excel(xls, sheet_name = 'panel E', skiprows = 1)\n",
    "df_Retrieving = pd.read_excel(xls, sheet_name = 'panel F', skiprows = 1)"
   ]
  },
  {
   "cell_type": "markdown",
   "metadata": {},
   "source": [
    "### You now have a dataframe (df) for the data underlying each panel of Figure 1 \n",
    "#### dataframe names:\n",
    "- df_Licking\n",
    "- df_NestQuality\n",
    "- df_Huddling\n",
    "- df_Retrieving\n",
    "#### You can display the contents of each imported dataframe to look at the data. \n",
    "> __Type a dataframe name__ in the cell below __and hit play__ to print the contents of dataframe to the notebook page."
   ]
  },
  {
   "cell_type": "code",
   "execution_count": null,
   "metadata": {},
   "outputs": [],
   "source": []
  },
  {
   "cell_type": "markdown",
   "metadata": {},
   "source": [
    "### To understand the data it is important to know the number of individuals observed in each behavior. We can use the ```len( )``` function to return the length of objects in Python.\n",
    "> For example, the command ```len(df_Licking)``` gives the length (number of rows) <br> of the dataframe for Panel C. <br>\n",
    "> Try this by __executing__ the cell below."
   ]
  },
  {
   "cell_type": "code",
   "execution_count": 53,
   "metadata": {},
   "outputs": [
    {
     "data": {
      "text/plain": [
       "24"
      ]
     },
     "execution_count": 53,
     "metadata": {},
     "output_type": "execute_result"
    }
   ],
   "source": [
    "len(df_Licking)"
   ]
  },
  {
   "cell_type": "markdown",
   "metadata": {},
   "source": [
    "### Does this reflect the number of animals of each species&sex tested? \n",
    "> __hint__ display the dataframe for Panel C and look at the contents of each column. What are the NaN values? __type__ your answer in the cell below and __execute__ or __hit play__ when finished."
   ]
  },
  {
   "cell_type": "markdown",
   "metadata": {},
   "source": []
  },
  {
   "cell_type": "markdown",
   "metadata": {},
   "source": [
    "### To know the number of animals of each species&sex used to create Figure 1 we need to be more specific about the dataframe. \n",
    "- First, we need to look at only one column at a time by referring to the column name in the following format: ```df_Licking['P. maniculatus mothers']``` (*spaces and lower/upper case matters!*)\n",
    "- Next, we need to eliminate the NaN values from the selected column using the ```.dropna()``` method\n",
    "> Examine the result of these commands by __executing__ the cell below:"
   ]
  },
  {
   "cell_type": "code",
   "execution_count": null,
   "metadata": {},
   "outputs": [],
   "source": [
    "df_Licking['P. maniculatus mothers'].dropna()"
   ]
  },
  {
   "cell_type": "markdown",
   "metadata": {},
   "source": [
    "### In the cell below, use what you have just learned to write a command to find the number of P. maniculatus mothers used to quantify licking behavior and assign it to the variable '*N*'"
   ]
  },
  {
   "cell_type": "code",
   "execution_count": null,
   "metadata": {},
   "outputs": [],
   "source": []
  },
  {
   "cell_type": "code",
   "execution_count": null,
   "metadata": {},
   "outputs": [],
   "source": [
    "#@title Now, __execute__ this cell to display your answer into a printed statement.\n",
    "print('You have calculated that N = ' str(N) + ' P. maniculatus mothers were used to quantify licking behavior.')"
   ]
  },
  {
   "cell_type": "markdown",
   "metadata": {},
   "source": [
    "### Great! Now that you understand better how to manipulate and access the data for Figure 1, let's ask some questions that were not explicitly shown in the paper.\n",
    "\n",
    "#### Do you think that some of these behaviors are correlated with each other within an individual? In other words, are mothers that build quality nests are also good huddlers? To ask this question we can look at *correlations* between each behavior across individuals.\n",
    "> Why can we not look at the correlation between Licking behavior and any of the other behaviors examined in Figure 1? __Hint__, look at the contents of each dataframe again and pay attention to the length of each column across dataframes."
   ]
  },
  {
   "cell_type": "code",
   "execution_count": 73,
   "metadata": {},
   "outputs": [
    {
     "data": {
      "text/plain": [
       "<matplotlib.collections.PathCollection at 0x11f32d4c0>"
      ]
     },
     "execution_count": 73,
     "metadata": {},
     "output_type": "execute_result"
    },
    {
     "data": {
      "image/png": "[encoded data removed]",
      "text/plain": [
       "<Figure size 432x288 with 1 Axes>"
      ]
     },
     "metadata": {
      "needs_background": "light"
     },
     "output_type": "display_data"
    }
   ],
   "source": [
    "plt.scatter(df_NestQuality['P. polionotus mothers'].dropna(),\n",
    "            df_Retrieving['P. polionotus mothers'].dropna())"
   ]
  },
  {
   "cell_type": "markdown",
   "metadata": {
    "colab_type": "text",
    "id": "WLQz1EAky_ZE"
   },
   "source": [
    "<br>\n",
    "\n",
    "### <font color=green> Figure 2 </font>"
   ]
  },
  {
   "cell_type": "code",
   "execution_count": null,
   "metadata": {
    "colab": {},
    "colab_type": "code",
    "id": "fbl33r_U0R3o"
   },
   "outputs": [],
   "source": []
  },
  {
   "cell_type": "code",
   "execution_count": null,
   "metadata": {
    "colab": {},
    "colab_type": "code",
    "id": "mhA47tV_2bLV"
   },
   "outputs": [],
   "source": []
  },
  {
   "cell_type": "code",
   "execution_count": null,
   "metadata": {
    "colab": {},
    "colab_type": "code",
    "id": "eYmoGjLfJiio"
   },
   "outputs": [],
   "source": []
  },
  {
   "cell_type": "markdown",
   "metadata": {
    "colab_type": "text",
    "id": "9n29F76VQLii"
   },
   "source": [
    "## Resources\n",
    "For additional Jupyter Notebook information and practice, see [this tutorial](https://www.dataquest.io/blog/jupyter-notebook-tutorial/) from DataQuest. \n",
    "\n",
    "## About this Notebook\n",
    "This notebook was created by [Krista Perks](https://github.com/neurologic) for the Animal Behavior class at Wesleyan University."
   ]
  }
 ],
 "metadata": {
  "colab": {
   "collapsed_sections": [],
   "name": "PupRetrieval_MarlinEtAl_2015.ipynb",
   "provenance": []
  },
  "kernelspec": {
   "display_name": "Python 3",
   "language": "python",
   "name": "python3"
  },
  "language_info": {
   "codemirror_mode": {
    "name": "ipython",
    "version": 3
   },
   "file_extension": ".py",
   "mimetype": "text/x-python",
   "name": "python",
   "nbconvert_exporter": "python",
   "pygments_lexer": "ipython3",
   "version": "3.8.5"
  }
 },
 "nbformat": 4,
 "nbformat_minor": 1
}
