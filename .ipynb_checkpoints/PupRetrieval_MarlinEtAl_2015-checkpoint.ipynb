{
 "cells": [
  {
   "cell_type": "code",
   "execution_count": null,
   "metadata": {},
   "outputs": [],
   "source": [
    "import urllib.request\n",
    "import pandas as pd\n",
    "\n",
    "# URL of data to download\n",
    "data_url = 'https://static-content.springer.com/esm/art%3A10.1038%2Fnature14402/MediaObjects/41586_2015_BFnature14402_MOESM287_ESM.xlsx'\n",
    "\n",
    "# Get the data and save it locally as \"sleep_data.txt\"\n",
    "data, headers = urllib.request.urlretrieve(data_url, './data.xls')\n",
    "\n",
    "# Load the .txt file as a numpy array\n",
    "data = pd.read_excel('data.xls')"
   ]
  },
  {
   "cell_type": "code",
   "execution_count": null,
   "metadata": {},
   "outputs": [],
   "source": [
    "data['oxytocin.2'].values"
   ]
  }
 ],
 "metadata": {
  "kernelspec": {
   "display_name": "Python 3",
   "language": "python",
   "name": "python3"
  },
  "language_info": {
   "codemirror_mode": {
    "name": "ipython",
    "version": 3
   },
   "file_extension": ".py",
   "mimetype": "text/x-python",
   "name": "python",
   "nbconvert_exporter": "python",
   "pygments_lexer": "ipython3",
   "version": "3.6.10"
  }
 },
 "nbformat": 4,
 "nbformat_minor": 4
}
