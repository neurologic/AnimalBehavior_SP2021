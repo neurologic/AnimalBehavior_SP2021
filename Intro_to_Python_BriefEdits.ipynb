{
 "cells": [
  {
   "cell_type": "markdown",
   "metadata": {
    "id": "CJKaTVe7zlRV"
   },
   "source": [
    "# <center>**Introduction to Python Workshop**</center>\n",
    "###### <center>[Harvard Chan Bioinformatics Core](https://bioinformatics.sph.harvard.edu/)</center>\n",
    "###### <center>2020-07-29</center>\n"
   ]
  },
  {
   "cell_type": "markdown",
   "metadata": {
    "id": "1b6cELGTPiUX"
   },
   "source": [
    "---\n",
    "\n",
    "# Pre-class preparation \n",
    "Welcome to **Introduction to Python** workshop! Before we start, let's prepare a few things and get familiar with the platform (Google Colab) that we will use during this workshop. Colab provides free cloud service based on the [Jupyter notebook](https://jupyter.org/) environment. It does not require users to install python locally, it is run entirely in the cloud. \n",
    "\n",
    "Please follow the instructions below to set up for this workshop:\n",
    "1. **Create your own copy of this python notebook (which is also the workshop materials)**: Click \"File\" at the top -> Click \"Save a copy in Drive\". This notebook will be automatically named \"Copy of Intro_to_Python_in_class_version\" and copied in your Google Drive. You can rename it if you want.\n",
    "2. **Check where the material is located**: Click \"File\" again -> click \"Locate in Drive\". A new window should pop up, showing you its location in your Google Drive.\n",
    "3. **Get familiar with Colab interface and terminology**: \n",
    "*   code cell\n",
    "*   text cell\n",
    "*   creating and deleting cell\n",
    "*   adding comments\n",
    "*   saving the document\n",
    "\n",
    "4. **Run the code cell below**. You should see an output console under the code cell.\n",
    "> ***remember, to 'run' means to hit the play button to the left of the cell or to hit ```'shift + enter'``` or ```'command(mac)/ctrl(pc) + enter'``` on your keyboard***\n"
   ]
  },
  {
   "cell_type": "code",
   "execution_count": null,
   "metadata": {
    "id": "2G5ADhhBPMnz"
   },
   "outputs": [],
   "source": [
    "# Prepare for the lesson\n",
    "_4_2 = 0.314\n",
    "ans_final = \"ATGAACGCATCGATATATATGTATGATAGCAAATACTATACGTAATCGATCAGT\"\n",
    "print(\"Done! You are all set for pre-class preparation!\")"
   ]
  },
  {
   "cell_type": "markdown",
   "metadata": {
    "id": "qHPTgwHWPMn2"
   },
   "source": [
    "---\n",
    "\n",
    "# Section I: Introduction to Python \n",
    "\n",
    "## What is Python?\n",
    "Python is a powerful, open-source, general-purpose programming language with a wide variety of applications. Many [websites and apps](https://codeinstitute.net/blog/7-popular-software-programs-written-in-python/) that we are familiar with, including YouTube, Instagram, Spotify etc, are actually built on Python. In the field of bioinformatics, Python is also widely used in computational programming, data analysis, and pipeline development. \n",
    "\n",
    "Below we have listed some examples where Python-based tools are used:\n",
    "\n",
    "| **Example use case** | **Tool** |\n",
    "| :---: | :---: |\n",
    "| Pipeline development | [bcbio](https://bcbio-nextgen.readthedocs.io/en/latest/), [snakemake](https://snakemake.readthedocs.io/en/stable/) |\n",
    "| Image analysis | [CellProfiler](https://cellprofiler.org/) |\n",
    "| Molecular visualization | [PyMOL](https://pymol.org/2/) |\n",
    "| Machine learning | [scikit-learn](https://scikit-learn.org/stable/) |\n",
    "\n",
    "> Note: Many bioinformatics tools are written in Python, and you may have encountered/used them without knowing how they work. This is okay, but if you want to customize them or modify something, you will need to understand the scripts.\n",
    "\n",
    "Since it was first released in 1991, Python has been constantly developed and updated. The current version of Python is 3.0. Python programming language features include:\n",
    "- Easy-to-understand syntax\n",
    "- Large number of built-in libraries for common tasks\n",
    "- Succinct and readable format, both friendly to the programming amateur and the professional\n",
    "- Widely used programming language, with good documentation and lots of tutorials\n",
    "\n",
    "## What will you learn in this workshop?\n",
    "To take this workshop, you don't need to have prior experience in Python (or any other programming language(s)). We will start with basic Python syntax, progress through various concepts and end with learning about writing conditional statements. The workshop is designed to set a foundation for advanced topics in Python, including data wrangling/visualization, pipeline development, and machine learning applications.\n",
    "\n",
    "## Additional tips\n",
    "- `#` at the beginning of the line denotes that the following statement is a comment or annotation for the code. Essentially, any line starting with a `#` won't be executed by Python. \n",
    "- Indentation is very important in Python syntax. Not only is it necessary for Python, it is great for code readability. Essentially, by making indentations essential, Python forces good code-writing. We will be talking more about this throughout the workshop."
   ]
  },
  {
   "cell_type": "markdown",
   "metadata": {
    "id": "2XlURgD6PMn3"
   },
   "source": [
    "---\n",
    "\n",
    "# Section II: Getting Started"
   ]
  },
  {
   "cell_type": "markdown",
   "metadata": {},
   "source": [
    "### Step 1. Import packages \n",
    "We can take advantage of pre-packaged code for many common functions in Python. But first, we need to tell Python to import it. This is a really common step for most Python code.\n",
    "\n",
    "We'll import a package called \"numpy\" and nickname it \"np\" and \"matplotlib.pyplot\" and nickname it \"plt.\" <b> Below, add \"as np\" after \"import numpy\" to instruct Python to import the numpy package but nickname it np. </b> When you see \"np\" in our script, it's actually calling scripts from the numpy package.\n",
    "\n",
    "After you import it, Python will print a message. Having printed messages like these is a really nice way to check that your cell actually ran."
   ]
  },
  {
   "cell_type": "code",
   "execution_count": null,
   "metadata": {},
   "outputs": [],
   "source": [
    "import numpy \n",
    "import matplotlib.pyplot as plt\n",
    "print('Imported packages')"
   ]
  },
  {
   "cell_type": "markdown",
   "metadata": {
    "id": "2XlURgD6PMn3"
   },
   "source": [
    "---\n",
    "\n",
    "# Section II: Basic Python syntax"
   ]
  },
  {
   "cell_type": "markdown",
   "metadata": {
    "id": "MoK64s_g6BTo"
   },
   "source": [
    "## Step 1: Variables\n",
    "A \"variable\" is a temporary container that stores some information, and is given a name. We can use the `=` operator to assign some value to a variable name/variable. Variable naming in Python has to fulfill the following rules:\n",
    "- must start with a letter or underscore character\n",
    "- can contain only alpha-numeric characters or the underscore character (A-z, 0-9, _ )\n",
    "- cannot be a reserved keyword in Python. A complete list can be found [here](https://docs.python.org/3.8/reference/lexical_analysis.html#keywords).\n",
    "- is case-sensitive (e.g. `Year` and `year` are two different variable names)  "
   ]
  },
  {
   "cell_type": "code",
   "execution_count": null,
   "metadata": {
    "id": "eWPzzdRQPMn3"
   },
   "outputs": [],
   "source": [
    "# Assign two variables: 2 to x, and 5 to y\n"
   ]
  },
  {
   "cell_type": "markdown",
   "metadata": {
    "id": "d5gnc0lcPMn6"
   },
   "source": [
    "The \"x\" and \"y\" variables are now stored in the current Python computing environment. \n",
    "\n",
    "We can use the `print()` function to print out the value of variables to the console. <br>\n",
    "A function is a collection of reusable code that performs a particular task. Python has a set of built-in [functions](https://docs.python.org/3/library/functions.html). \n",
    "> In Python, functions are the workhorses and are written as follows with the open/close parentheses: `function_name()` "
   ]
  },
  {
   "cell_type": "code",
   "execution_count": null,
   "metadata": {
    "id": "NL01057zPMn7"
   },
   "outputs": [],
   "source": [
    "# Print out the value of variable 'x' or 'y'\n"
   ]
  },
  {
   "cell_type": "markdown",
   "metadata": {
    "id": "HE7482PePMoK"
   },
   "source": [
    "## Step 2: Lists"
   ]
  },
  {
   "cell_type": "markdown",
   "metadata": {
    "id": "BsBcL_stfya4"
   },
   "source": [
    "A frequently used \"data structure\" in Python is called a `list`. A Python list is a collection of data stored within square brackets `[]`.  <br>\n",
    "This will be something you use all the time in Python.\n",
    "\n",
    "Lists have the following features:\n",
    "- order of its elements matters\n",
    "- can store mixed data types that we introduced above\n",
    "- can even contain a sublist\n",
    "\n",
    "> Note: There are other Python data structures, including `tuple`, `dictionary`, `sets`. We are not going to cover those in this workshop, but they can be very useful in some situations. If you are interested in learning more about them, this [website](https://thomas-cokelaer.info/tutorials/python/data_structures.html) has good introductory information."
   ]
  },
  {
   "cell_type": "code",
   "execution_count": null,
   "metadata": {
    "id": "t6gedZQUPMoK"
   },
   "outputs": [],
   "source": [
    "# Create a list called 'my_list' that contains three numbers separated by commas\n"
   ]
  },
  {
   "cell_type": "markdown",
   "metadata": {
    "id": "HE7482PePMoK"
   },
   "source": [
    "## Step 3: Strings"
   ]
  },
  {
   "cell_type": "markdown",
   "metadata": {
    "id": "N7BJ9miYPMoE"
   },
   "source": [
    "Another commonly used data type is a string. String stores a sequence of characters, and can be created by enclosing characters inside single quotation marks `''` or double quotation marks `\"\"` .\n"
   ]
  },
  {
   "cell_type": "code",
   "execution_count": null,
   "metadata": {
    "id": "AkpcdOA7PMoE"
   },
   "outputs": [],
   "source": [
    "# Generate a string variable called 'text' with the value 'hello world!'. \n"
   ]
  },
  {
   "cell_type": "code",
   "execution_count": null,
   "metadata": {},
   "outputs": [],
   "source": [
    "# Use the ```print()``` function to print the contents of the variable 'text'.\n"
   ]
  },
  {
   "cell_type": "markdown",
   "metadata": {
    "id": "63BaOVc4PMoB"
   },
   "source": [
    "## Step 4: Data types\n",
    "Data comes in many different types.<br>\n",
    "Whole numbers are `int` for \"integer\"<br>\n",
    "Numbers with decimal places are `float`<br>\n",
    "Strings are `str`<br>\n",
    "Lists are `list`<br>\n",
    "\n",
    "We can use the `type()` function to check what data type a given variable has."
   ]
  },
  {
   "cell_type": "code",
   "execution_count": null,
   "metadata": {},
   "outputs": [],
   "source": [
    "# Check the data type of your list by using type(my_list)\n"
   ]
  },
  {
   "cell_type": "code",
   "execution_count": null,
   "metadata": {},
   "outputs": [],
   "source": [
    "# Check the data type of your string variable\n"
   ]
  },
  {
   "cell_type": "markdown",
   "metadata": {
    "id": "cBClvEuRPMoH"
   },
   "source": [
    "The last data type we will introduce here is called `bool`. This boolean data type can be either `True` or `False`. It is usually to specify if an expression is true or false. We will cover this data type in the conditional statement section."
   ]
  },
  {
   "cell_type": "code",
   "execution_count": null,
   "metadata": {
    "id": "RXFkI9x9PMoH"
   },
   "outputs": [],
   "source": [
    "# The code here generates a boolean variable called 'test', \n",
    "# which judges whether 10 is smaller than 8. \n",
    "test = 10 < 8\n"
   ]
  },
  {
   "cell_type": "code",
   "execution_count": null,
   "metadata": {},
   "outputs": [],
   "source": [
    "# print the value of 'test'\n",
    "\n"
   ]
  },
  {
   "cell_type": "markdown",
   "metadata": {
    "id": "eXAv5w3UPMoJ"
   },
   "source": [
    "## Recap\n",
    "In this short section, we introduced some very basic terms in Python. We learned **how to assign variables**, and what rules to follow. <br> \n",
    "We also described several important **data types** - `int`, `float`, `str`, `list`, and `bool`. \n",
    "\n",
    "| **Data type** | **Examples** |\n",
    "| :---: | :---: |\n",
    "| int (numeric) | 2 |\n",
    "| float (numeric) | 3.5 |\n",
    "| str | 'hello world!' |\n",
    "| list | [2,3,6,8] |\n",
    "| bool | True, False|\n",
    "\n"
   ]
  },
  {
   "cell_type": "markdown",
   "metadata": {
    "id": "2XlURgD6PMn3"
   },
   "source": [
    "---\n",
    "\n",
    "# Section II: Doing Computations"
   ]
  },
  {
   "cell_type": "markdown",
   "metadata": {
    "id": "swFsV8xjPMn-"
   },
   "source": [
    "We can perform mathematical calculation(s) on numbers, strings, variables, and lists. <br> \n",
    "For example, we can calculate the mean of the numbers in the list you just created by using the function ```np.mean()``` <br>\n",
    "The name of the list is written in the parentheses : ```np.mean(my_list)```. \n",
    "> Note that the mean( ) function is part of the numpy package that we have named **'np'** so it needs to be used with **'np.'** before it"
   ]
  },
  {
   "cell_type": "code",
   "execution_count": null,
   "metadata": {
    "id": "Bwz1WawIPMn_"
   },
   "outputs": [],
   "source": [
    "# Calculate the mean of the numbers in your list following the example above \n"
   ]
  },
  {
   "cell_type": "code",
   "execution_count": null,
   "metadata": {},
   "outputs": [],
   "source": [
    "# Now assign the output to a variable called 'my_mean'\n"
   ]
  },
  {
   "cell_type": "code",
   "execution_count": null,
   "metadata": {},
   "outputs": [],
   "source": [
    "# Print the value of the ```my_mean``` variable using the ```print()``` function\n"
   ]
  },
  {
   "cell_type": "code",
   "execution_count": null,
   "metadata": {
    "id": "JDKPk7l6PMoB"
   },
   "outputs": [],
   "source": [
    "# Check the data type for 'my_mean'\n"
   ]
  },
  {
   "cell_type": "markdown",
   "metadata": {
    "id": "HE7482PePMoK"
   },
   "source": [
    "---\n",
    "\n",
    "# Section III: Accessing data from a list"
   ]
  },
  {
   "cell_type": "markdown",
   "metadata": {
    "id": "2hQbwlbNPMoV"
   },
   "source": [
    "\n",
    "Now that we know how to create a list, how do we access the data from it? \n",
    "\n",
    "We can do so by specifying the \"index\" number - the location of the data within the list. Similar to some other programming languages, **Python index starts from 0**  \n",
    "\n",
    "The first data point of a list is `list[0]`. That is the data point at the '0' index of the list 'list'.<br>\n",
    "Alternatively, we can also use `-` to access the data starting from end of the list. The last element of a list is `list[-1]`. \n"
   ]
  },
  {
   "cell_type": "code",
   "execution_count": null,
   "metadata": {
    "id": "GWhrsGlxPMoM"
   },
   "outputs": [],
   "source": [
    "# Create a list called 'animals', containing eight strings, each for a different animal.\n",
    "# don't forget to put each string in quotes.\n"
   ]
  },
  {
   "cell_type": "code",
   "execution_count": null,
   "metadata": {
    "id": "Jcx6ADYdPMoV"
   },
   "outputs": [],
   "source": [
    "# Get the item at the 2nd index location of your list 'animals' \n"
   ]
  },
  {
   "cell_type": "markdown",
   "metadata": {
    "id": "_Xdxp8HJPMob"
   },
   "source": [
    "## Getting multiple elements from a list\n",
    "Now, what if we want to access multiple elements in a list? \n",
    "\n",
    "Here we introduce the slicing `:` operator. The syntax of \"slicing\" is `[start:stop:step]`. *start* refers to the starting index of the slice. *stop* refers to the index of the element just **after** the finish of our \"slice\". *step* refers to step value of the slice.\n",
    "> Note: You don't have to specify all slicing elements; when it is not specified, Python will use default value - **by default, it will start from the first element, stop at the last element, and use step of 1**.\n"
   ]
  },
  {
   "cell_type": "code",
   "execution_count": null,
   "metadata": {
    "id": "Z7NvuwFIPMob"
   },
   "outputs": [],
   "source": [
    "# For example, to get the first two items from the list 'animals' you would do:\n",
    "animals[0:2]\n"
   ]
  },
  {
   "cell_type": "code",
   "execution_count": null,
   "metadata": {
    "id": "L73ZL1GPPMod"
   },
   "outputs": [],
   "source": [
    "# Then to get every third item from the list 'animals' you would do:\n",
    "animals[::3]\n"
   ]
  },
  {
   "cell_type": "code",
   "execution_count": null,
   "metadata": {
    "id": "PikkO1r0PMof"
   },
   "outputs": [],
   "source": [
    "# Get the fourth item from your list 'animals'\n"
   ]
  },
  {
   "cell_type": "code",
   "execution_count": null,
   "metadata": {
    "id": "wqZPi-ZAPMog"
   },
   "outputs": [],
   "source": [
    "# Get every other item from the list 'animals' (every second item)\n"
   ]
  },
  {
   "cell_type": "markdown",
   "metadata": {
    "id": "fndVCOr9PMon"
   },
   "source": [
    "## Modifying a list\n",
    "Next, we will learn several ways to modify elements in an existing list. \n",
    "\n",
    "* To change the value of an element, we can simply reassign the element to a new value. \n",
    "* To add a new element to a list, we can use the `+` operator. \n",
    "* Lastly, to delete an existing element from a list, we can use the `del()` function.\n",
    "\n",
    "> Note: The `del()` function will modify the original list. Be mindful of this, especially if you run this function more than once you will be removing more values than you initially set out to."
   ]
  },
  {
   "cell_type": "code",
   "execution_count": null,
   "metadata": {
    "id": "ByZQueNIPMoo"
   },
   "outputs": [],
   "source": [
    "# Change the animal at the second index location\n"
   ]
  },
  {
   "cell_type": "code",
   "execution_count": null,
   "metadata": {
    "id": "7efaKFfrPMoq"
   },
   "outputs": [],
   "source": [
    "# Add information for another genome - fly with genome length of 180\n"
   ]
  },
  {
   "cell_type": "code",
   "execution_count": null,
   "metadata": {
    "id": "AO_XMvtCPMos"
   },
   "outputs": [],
   "source": [
    "# Delete information about corn and its genome length\n"
   ]
  },
  {
   "cell_type": "markdown",
   "metadata": {
    "id": "z5pYjZcDPMo7"
   },
   "source": [
    "## Recap\n",
    "We have covered a lot of content in this section! \n",
    "\n",
    "We first introduced **what is a list** and **how to create a list in Python**. We then learned **how to access and manipulate one or more elements in a list**. Sometimes there are multiple ways to achieve this goal. "
   ]
  },
  {
   "cell_type": "markdown",
   "metadata": {
    "id": "i5xIeWN67nL6"
   },
   "source": [
    "## Future learning\n",
    "If you are interested in learning more about basics of Python programming, we listed a few additional resources below:\n",
    "- [Python course on kaggle](https://www.kaggle.com/learn/python)\n",
    "- [Python course on codecademy](https://www.codecademy.com/learn/learn-python)\n",
    "- [Python course on software carpentry](https://swcarpentry.github.io/python-novice-inflammation/)\n",
    "- [A Byte of Python](https://python.swaroopch.com/)\n",
    "- [Python for Biologists](http://userpages.fu-berlin.de/digga/p4b.pdf)"
   ]
  },
  {
   "cell_type": "markdown",
   "metadata": {
    "id": "BElL7MnQE69F"
   },
   "source": [
    "\n",
    "---\n",
    "*This lesson has been modified from the original by:\n",
    "\n",
    "**Authors**: Jihe Liu, Radhika Khetani\n",
    "\n",
    "*members of the teaching team at the [Harvard Chan Bioinformatics Core (HBC)](http://bioinformatics.sph.harvard.edu/). These are open access materials distributed under the terms of the [Creative Commons Attribution license](https://creativecommons.org/licenses/by/4.0/) (CC BY 4.0), which permits unrestricted use, distribution, and reproduction in any medium, provided the original author and source are credited.*"
   ]
  },
  {
   "cell_type": "code",
   "execution_count": null,
   "metadata": {},
   "outputs": [],
   "source": []
  }
 ],
 "metadata": {
  "colab": {
   "collapsed_sections": [
    "eXAv5w3UPMoJ",
    "z5pYjZcDPMo7",
    "wQG1cP6dPMpv"
   ],
   "name": "Intro_to_Python_in_class_version.ipynb",
   "provenance": []
  },
  "kernelspec": {
   "display_name": "Python 3",
   "language": "python",
   "name": "python3"
  },
  "language_info": {
   "codemirror_mode": {
    "name": "ipython",
    "version": 3
   },
   "file_extension": ".py",
   "mimetype": "text/x-python",
   "name": "python",
   "nbconvert_exporter": "python",
   "pygments_lexer": "ipython3",
   "version": "3.8.5"
  },
  "toc": {
   "base_numbering": 1,
   "nav_menu": {},
   "number_sections": true,
   "sideBar": true,
   "skip_h1_title": false,
   "title_cell": "Table of Contents",
   "title_sidebar": "Contents",
   "toc_cell": false,
   "toc_position": {
    "height": "calc(100% - 180px)",
    "left": "10px",
    "top": "150px",
    "width": "165px"
   },
   "toc_section_display": true,
   "toc_window_display": true
  },
  "varInspector": {
   "cols": {
    "lenName": 16,
    "lenType": 16,
    "lenVar": 40
   },
   "kernels_config": {
    "python": {
     "delete_cmd_postfix": "",
     "delete_cmd_prefix": "del ",
     "library": "var_list.py",
     "varRefreshCmd": "print(var_dic_list())"
    },
    "r": {
     "delete_cmd_postfix": ") ",
     "delete_cmd_prefix": "rm(",
     "library": "var_list.r",
     "varRefreshCmd": "cat(var_dic_list()) "
    }
   },
   "oldHeight": 163.489666,
   "position": {
    "height": "184.823px",
    "left": "718px",
    "right": "20px",
    "top": "75px",
    "width": "405.99px"
   },
   "types_to_exclude": [
    "module",
    "function",
    "builtin_function_or_method",
    "instance",
    "_Feature"
   ],
   "varInspector_section_display": "block",
   "window_display": false
  }
 },
 "nbformat": 4,
 "nbformat_minor": 1
}
